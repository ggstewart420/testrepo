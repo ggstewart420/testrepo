{
 "cells": [
  {
   "cell_type": "markdown",
   "id": "b3c21439-946e-4b43-a609-28567ef7dcb4",
   "metadata": {
    "tags": []
   },
   "source": [
    "# Data Science Tools and Ecosystem"
   ]
  },
  {
   "cell_type": "markdown",
   "id": "94cc7339-8115-4e4d-b5ac-27a741b1038d",
   "metadata": {
    "tags": []
   },
   "source": [
    "# In this notebook, Data Science Tools and ecosystem are summarized"
   ]
  },
  {
   "cell_type": "markdown",
   "id": "5e1f44aa-25f5-44cd-86e1-9cc7b41ac505",
   "metadata": {
    "tags": []
   },
   "source": [
    "# **Objectives:**\n",
    "\n",
    "- List popular languages for Data Scientists\n",
    "- Commonly used libraries for Data Scientists\n",
    "- Evauluating arethmetic expressions in Python\n"
   ]
  },
  {
   "cell_type": "markdown",
   "id": "79a2bb1c-7960-4496-a84f-dec11e67cf71",
   "metadata": {
    "tags": []
   },
   "source": [
    "# Some of the popular language that Data Scientists use are:\n",
    "\n",
    "1. Python\n",
    "2. SQL\n",
    "3. R"
   ]
  },
  {
   "cell_type": "markdown",
   "id": "96bf1851-e16c-4bf6-8b80-54343dc025cf",
   "metadata": {},
   "source": [
    "# Some of the commonly used libraries used by Data Scientists include:\n",
    "\n",
    "1. Numpy\n",
    "2. Pandas\n",
    "3. Tensorflow"
   ]
  },
  {
   "cell_type": "code",
   "execution_count": null,
   "id": "509a3eeb-363e-408f-a650-a84eafe8b37e",
   "metadata": {
    "tags": []
   },
   "outputs": [],
   "source": [
    "| Data Science Tools |\n",
    "| ------------------ |\n",
    "| Apache Hadoop |\n",
    "| Apache Spark |\n",
    "| RStudio |\n",
    "\n",
    "\n",
    "\n",
    "\n"
   ]
  },
  {
   "cell_type": "markdown",
   "id": "58993773-4872-46df-b4fb-a1cec4060fb9",
   "metadata": {},
   "source": [
    "### Below are a few examples of evaluating arithmetic expressions in Python"
   ]
  },
  {
   "cell_type": "code",
   "execution_count": 9,
   "id": "18d72d9e-6c4a-4717-bbb0-88e40bbe1861",
   "metadata": {
    "tags": []
   },
   "outputs": [
    {
     "data": {
      "text/plain": [
       "17"
      ]
     },
     "execution_count": 9,
     "metadata": {},
     "output_type": "execute_result"
    }
   ],
   "source": [
    "# This is a simple arithmetic expression to multiply then add integers\n",
    "\n",
    "(3*4)+5"
   ]
  },
  {
   "cell_type": "code",
   "execution_count": 10,
   "id": "7153e315-cbf1-4fad-8de3-a9eae5aedb98",
   "metadata": {
    "tags": []
   },
   "outputs": [
    {
     "data": {
      "text/plain": [
       "3.3333333333333335"
      ]
     },
     "execution_count": 10,
     "metadata": {},
     "output_type": "execute_result"
    }
   ],
   "source": [
    "# This will convert 200 minites to hours by dividing by 60\n",
    "\n",
    "200/60"
   ]
  },
  {
   "cell_type": "markdown",
   "id": "b19d3899-3152-4613-93fc-e92e790b7da9",
   "metadata": {
    "tags": []
   },
   "source": [
    "## Author\n",
    "Greg Stewart"
   ]
  },
  {
   "cell_type": "code",
   "execution_count": null,
   "id": "cdbda0c2-28ff-417d-b46e-7556462bcdd3",
   "metadata": {},
   "outputs": [],
   "source": []
  }
 ],
 "metadata": {
  "kernelspec": {
   "display_name": "Python",
   "language": "python",
   "name": "conda-env-python-py"
  },
  "language_info": {
   "codemirror_mode": {
    "name": "ipython",
    "version": 3
   },
   "file_extension": ".py",
   "mimetype": "text/x-python",
   "name": "python",
   "nbconvert_exporter": "python",
   "pygments_lexer": "ipython3",
   "version": "3.7.12"
  }
 },
 "nbformat": 4,
 "nbformat_minor": 5
}
